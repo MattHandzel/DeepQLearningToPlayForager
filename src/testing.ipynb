{
 "cells": [
  {
   "cell_type": "code",
   "execution_count": 2,
   "metadata": {},
   "outputs": [],
   "source": [
    "from pynput import mouse\n",
    "mouse = mouse.Controller()"
   ]
  },
  {
   "cell_type": "code",
   "execution_count": 3,
   "metadata": {},
   "outputs": [
    {
     "name": "stdout",
     "output_type": "stream",
     "text": [
      "(322, 306)\n",
      "(960, 363)\n",
      "(967, 367)\n",
      "(978, 367)\n",
      "(978, 367)\n",
      "(966, 367)\n",
      "(969, 367)\n",
      "(1004, 367)\n",
      "(1004, 367)\n",
      "(1022, 372)\n",
      "(1018, 369)\n",
      "(1016, 369)\n",
      "(1016, 369)\n",
      "(1016, 369)\n",
      "(1016, 369)\n",
      "(1016, 369)\n",
      "(626, 955)\n",
      "(505, 487)\n",
      "(531, 103)\n",
      "(514, 110)\n",
      "(566, 812)\n",
      "(314, 256)\n"
     ]
    },
    {
     "ename": "KeyboardInterrupt",
     "evalue": "",
     "output_type": "error",
     "traceback": [
      "\u001b[0;31m---------------------------------------------------------------------------\u001b[0m",
      "\u001b[0;31mKeyboardInterrupt\u001b[0m                         Traceback (most recent call last)",
      "\u001b[1;32m/home/matthandzel/Desktop/Personal/PlayingForager/testing.ipynb Cell 2\u001b[0m in \u001b[0;36m4\n\u001b[1;32m      <a href='vscode-notebook-cell:/home/matthandzel/Desktop/Personal/PlayingForager/testing.ipynb#W1sZmlsZQ%3D%3D?line=1'>2</a>\u001b[0m \u001b[39mwhile\u001b[39;00m \u001b[39mTrue\u001b[39;00m:\n\u001b[1;32m      <a href='vscode-notebook-cell:/home/matthandzel/Desktop/Personal/PlayingForager/testing.ipynb#W1sZmlsZQ%3D%3D?line=2'>3</a>\u001b[0m   \u001b[39mprint\u001b[39m(mouse\u001b[39m.\u001b[39mposition)\n\u001b[0;32m----> <a href='vscode-notebook-cell:/home/matthandzel/Desktop/Personal/PlayingForager/testing.ipynb#W1sZmlsZQ%3D%3D?line=3'>4</a>\u001b[0m   time\u001b[39m.\u001b[39;49msleep(\u001b[39m1\u001b[39;49m)\n",
      "\u001b[0;31mKeyboardInterrupt\u001b[0m: "
     ]
    }
   ],
   "source": [
    "import time\n",
    "while True:\n",
    "  print(mouse.position)\n",
    "  time.sleep(1)"
   ]
  }
 ],
 "metadata": {
  "interpreter": {
   "hash": "63657ad9b6d7e07b9a3e426eced9021c991ceb7f76384f124e5c896a26a65d7d"
  },
  "kernelspec": {
   "display_name": "Python 3.8.2 64-bit",
   "name": "python3"
  },
  "language_info": {
   "codemirror_mode": {
    "name": "ipython",
    "version": 3
   },
   "file_extension": ".py",
   "mimetype": "text/x-python",
   "name": "python",
   "nbconvert_exporter": "python",
   "pygments_lexer": "ipython3",
   "version": "3.9.13"
  },
  "orig_nbformat": 4
 },
 "nbformat": 4,
 "nbformat_minor": 2
}
